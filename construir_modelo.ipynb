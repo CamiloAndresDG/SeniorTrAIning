{
 "cells": [
  {
   "cell_type": "code",
   "execution_count": 1,
   "metadata": {},
   "outputs": [
    {
     "name": "stdout",
     "output_type": "stream",
     "text": [
      "✅ Modelo entrenado y guardado como modelo.pkl\n"
     ]
    }
   ],
   "source": [
    "import pandas as pd\n",
    "import joblib\n",
    "from sklearn.ensemble import RandomForestClassifier\n",
    "from sklearn.model_selection import train_test_split\n",
    "from sklearn.preprocessing import LabelEncoder\n",
    "import numpy as np\n",
    "\n",
    "# 📌 Simulación de datos (esto debería ser un dataset real)\n",
    "data = {\n",
    "    \"Aciertos\": [7, 8, 5, 9, 10, 4, 6, 7, 8, 3],\n",
    "    \"Tiempo de reacción\": [1.2, 1.1, 2.0, 0.9, 0.8, 2.5, 1.8, 1.4, 1.0, 2.8],\n",
    "    \"Nivel Cognitivo\": [\"Medio\", \"Alto\", \"Bajo\", \"Alto\", \"Alto\", \"Bajo\", \"Medio\", \"Medio\", \"Alto\", \"Bajo\"]\n",
    "}\n",
    "\n",
    "df = pd.DataFrame(data)\n",
    "\n",
    "# 📌 Codificar la variable objetivo\n",
    "label_encoder = LabelEncoder()\n",
    "df[\"Nivel Cognitivo\"] = label_encoder.fit_transform(df[\"Nivel Cognitivo\"])\n",
    "\n",
    "# 📌 Dividir en entrenamiento y prueba\n",
    "X = df[[\"Aciertos\", \"Tiempo de reacción\"]]\n",
    "y = df[\"Nivel Cognitivo\"]\n",
    "X_train, X_test, y_train, y_test = train_test_split(X, y, test_size=0.2, random_state=42)\n",
    "\n",
    "# 📌 Entrenar modelo de Random Forest\n",
    "model = RandomForestClassifier(n_estimators=100, random_state=42)\n",
    "model.fit(X_train, y_train)\n",
    "\n",
    "# 📌 Guardar el modelo entrenado\n",
    "joblib.dump(model, \"modelo.pkl\")\n",
    "\n",
    "# 📌 Guardar el label encoder para decodificar predicciones\n",
    "joblib.dump(label_encoder, \"label_encoder.pkl\")\n",
    "\n",
    "print(\"✅ Modelo entrenado y guardado como modelo.pkl\")\n"
   ]
  },
  {
   "cell_type": "code",
   "execution_count": 2,
   "metadata": {},
   "outputs": [
    {
     "name": "stdout",
     "output_type": "stream",
     "text": [
      "1.23.5\n"
     ]
    }
   ],
   "source": [
    "import numpy as np\n",
    "print(np.__version__)"
   ]
  }
 ],
 "metadata": {
  "kernelspec": {
   "display_name": "base",
   "language": "python",
   "name": "python3"
  },
  "language_info": {
   "codemirror_mode": {
    "name": "ipython",
    "version": 3
   },
   "file_extension": ".py",
   "mimetype": "text/x-python",
   "name": "python",
   "nbconvert_exporter": "python",
   "pygments_lexer": "ipython3",
   "version": "3.10.9"
  }
 },
 "nbformat": 4,
 "nbformat_minor": 2
}
